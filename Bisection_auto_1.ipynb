{
  "nbformat": 4,
  "nbformat_minor": 0,
  "metadata": {
    "colab": {
      "name": "Bisection-auto-1.ipynb",
      "provenance": [],
      "authorship_tag": "ABX9TyNGUflOfaidUM7EoluH0Iax",
      "include_colab_link": true
    },
    "kernelspec": {
      "name": "python3",
      "display_name": "Python 3"
    }
  },
  "cells": [
    {
      "cell_type": "markdown",
      "metadata": {
        "id": "view-in-github",
        "colab_type": "text"
      },
      "source": [
        "<a href=\"https://colab.research.google.com/github/bappi2097/numerical-analysis-python/blob/master/Bisection_auto_1.ipynb\" target=\"_parent\"><img src=\"https://colab.research.google.com/assets/colab-badge.svg\" alt=\"Open In Colab\"/></a>"
      ]
    },
    {
      "cell_type": "code",
      "metadata": {
        "id": "5jrLf8wpW1rO",
        "colab_type": "code",
        "colab": {}
      },
      "source": [
        "import sympy as sy\n",
        "def f(formula, **args):\n",
        "  expr = sy.sympify(formula)\n",
        "  return expr.evalf(subs=args)"
      ],
      "execution_count": 3,
      "outputs": []
    },
    {
      "cell_type": "code",
      "metadata": {
        "id": "_HCe0yDmXSRk",
        "colab_type": "code",
        "colab": {}
      },
      "source": [
        "def autoval(formula):\n",
        "  rangeL=[]\n",
        "  for i in range(0, 101):\n",
        "    if (f(x=i, formula=formula)>0):\n",
        "      rangeL.append(i)\n",
        "      break\n",
        "  if (len(rangeL)!=1):\n",
        "    for i in range(1, -101, -1):\n",
        "      if (f(x=i, formula=formula)>0):\n",
        "        rangeL.append(i)\n",
        "        break\n",
        "  for i in range(0, 101):\n",
        "    if (f(x=i, formula=formula)<=0):\n",
        "      rangeL.append(i)\n",
        "      break\n",
        "  if (len(rangeL)!=2):\n",
        "    for i in range(1, -101, -1):\n",
        "      if (f(x=i, formula=formula)<=0):\n",
        "        rangeL.append(i)\n",
        "        break\n",
        "  if (f(x=rangeL[0], formula=formula)*f(x=rangeL[1], formula=formula)<0):\n",
        "    return rangeL"
      ],
      "execution_count": 4,
      "outputs": []
    },
    {
      "cell_type": "code",
      "metadata": {
        "id": "dNkDpfj1YLO8",
        "colab_type": "code",
        "colab": {}
      },
      "source": [
        "def bisection(formula):\n",
        "  rangeL=autoval(formula=formula)\n",
        "  a=rangeL[0]\n",
        "  b=rangeL[1]\n",
        "  c=0\n",
        "  fa= round(f(x=a, formula=formula), 2)\n",
        "  fb=round(f(x=b, formula=formula), 2)\n",
        "  fc=0\n",
        "  listC=[]\n",
        "  print(\"Let,\")\n",
        "  print(\"a={0}, f({1})={2}\".format(a, a, fa))\n",
        "  print(\"b={0}, f({1})={2}\\n\".format(b, b, fb))\n",
        "  if (fa*fb<0):\n",
        "    while True:\n",
        "      c=round((a+b)/2,2)\n",
        "      fc=round(f(x=c, formula=formula),2)\n",
        "      print(\"a={0}  b={1}  f(a)={2}  f(b)={3}  c={4}  f(c)={5}\".format(a,b,fa,fb,c,fc))\n",
        "      if (listC.count(c)>0):\n",
        "        print(\"a={0}  b={1}  f(a)={2}  f(b)={3}  (c={4})  f(c)={5}\".format(a,b,fa,fb,c,fc))\n",
        "        print(\"root={0}\".format(c))\n",
        "        return c\n",
        "      else:\n",
        "        listC.append(c)\n",
        "        if (fa*fc<=0):\n",
        "          b=c\n",
        "          fb=fc\n",
        "        else:\n",
        "          a=c\n",
        "          fa=fc"
      ],
      "execution_count": 29,
      "outputs": []
    },
    {
      "cell_type": "code",
      "metadata": {
        "id": "vRnnod4Zc7iB",
        "colab_type": "code",
        "colab": {
          "base_uri": "https://localhost:8080/",
          "height": 277
        },
        "outputId": "7a84facf-80ee-4111-fcf1-d7496d925041"
      },
      "source": [
        "bisection(formula=\"x**6-9*x-10\")"
      ],
      "execution_count": 30,
      "outputs": [
        {
          "output_type": "stream",
          "text": [
            "Let,\n",
            "a=2, f(2)=36.0\n",
            "b=0, f(0)=-10.0\n",
            "\n",
            "a=2  b=0  f(a)=36.0  f(b)=-10.0  c=1.0  f(c)=-18.0\n",
            "a=2  b=1.0  f(a)=36.0  f(b)=-18.0  c=1.5  f(c)=-12.11\n",
            "a=2  b=1.5  f(a)=36.0  f(b)=-12.11  c=1.75  f(c)=2.97\n",
            "a=1.75  b=1.5  f(a)=2.97  f(b)=-12.11  c=1.62  f(c)=-6.5\n",
            "a=1.75  b=1.62  f(a)=2.97  f(b)=-6.5  c=1.69  f(c)=-1.91\n",
            "a=1.75  b=1.69  f(a)=2.97  f(b)=-1.91  c=1.72  f(c)=0.41\n",
            "a=1.72  b=1.69  f(a)=0.41  f(b)=-1.91  c=1.71  f(c)=-0.39\n",
            "a=1.72  b=1.71  f(a)=0.41  f(b)=-0.39  c=1.71  f(c)=-0.39\n",
            "a=1.72  b=1.71  f(a)=0.41  f(b)=-0.39  (c=1.71)  f(c)=-0.39\n",
            "root=1.71\n"
          ],
          "name": "stdout"
        },
        {
          "output_type": "execute_result",
          "data": {
            "text/plain": [
              "1.71"
            ]
          },
          "metadata": {
            "tags": []
          },
          "execution_count": 30
        }
      ]
    },
    {
      "cell_type": "code",
      "metadata": {
        "id": "LvmGJE-wgoi_",
        "colab_type": "code",
        "colab": {}
      },
      "source": [
        ""
      ],
      "execution_count": null,
      "outputs": []
    }
  ]
}