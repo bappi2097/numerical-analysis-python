{
  "nbformat": 4,
  "nbformat_minor": 0,
  "metadata": {
    "colab": {
      "name": "Falseposition-auto-1.ipynb",
      "provenance": [],
      "authorship_tag": "ABX9TyPBOUT6s+OSguEIoRCAsBkd",
      "include_colab_link": true
    },
    "kernelspec": {
      "name": "python3",
      "display_name": "Python 3"
    }
  },
  "cells": [
    {
      "cell_type": "markdown",
      "metadata": {
        "id": "view-in-github",
        "colab_type": "text"
      },
      "source": [
        "<a href=\"https://colab.research.google.com/github/bappi2097/numerical-analysis-python/blob/master/Falseposition_auto_1.ipynb\" target=\"_parent\"><img src=\"https://colab.research.google.com/assets/colab-badge.svg\" alt=\"Open In Colab\"/></a>"
      ]
    },
    {
      "cell_type": "code",
      "metadata": {
        "id": "MpDComXYpv9n",
        "colab_type": "code",
        "colab": {}
      },
      "source": [
        "import sympy as sy\n",
        "def f(formula, **args):\n",
        "  expr = sy.sympify(formula)\n",
        "  return expr.evalf(subs=args)"
      ],
      "execution_count": 1,
      "outputs": []
    },
    {
      "cell_type": "code",
      "metadata": {
        "id": "V__iiryFp5mJ",
        "colab_type": "code",
        "colab": {}
      },
      "source": [
        "def autoval(formula):\n",
        "  rangeL=[]\n",
        "  for i in range(0, 101):\n",
        "    if (f(x=i, formula=formula)<0):\n",
        "      rangeL.append(i)\n",
        "      break\n",
        "  if (len(rangeL)!=1):\n",
        "    for i in range(1, -101, -1):\n",
        "      if (f(x=i, formula=formula)<0):\n",
        "        rangeL.append(i)\n",
        "        break\n",
        "  for i in range(0, 101):\n",
        "    if (f(x=i, formula=formula)>0):\n",
        "      rangeL.append(i)\n",
        "      break\n",
        "  if (len(rangeL)!=2):\n",
        "    for i in range(1, -101, -1):\n",
        "      if (f(x=i, formula=formula)>0):\n",
        "        rangeL.append(i)\n",
        "        break\n",
        "  if (f(x=rangeL[0], formula=formula)*f(x=rangeL[1], formula=formula)<0):\n",
        "    return rangeL"
      ],
      "execution_count": 2,
      "outputs": []
    },
    {
      "cell_type": "code",
      "metadata": {
        "id": "Xcj_xCgJp8vd",
        "colab_type": "code",
        "colab": {}
      },
      "source": [
        "def falseposition(formula):\n",
        "  rangeL=autoval(formula=formula)\n",
        "  a=rangeL[0]\n",
        "  b=rangeL[1]\n",
        "  c=0\n",
        "  fa= round(f(x=a, formula=formula), 2)\n",
        "  fb=round(f(x=b, formula=formula), 2)\n",
        "  fc=0\n",
        "  listC=[]\n",
        "  i=0\n",
        "  print(\"Let,\")\n",
        "  print(\"a={0}, f({1})={2}\".format(a, a, fa))\n",
        "  print(\"b={0}, f({1})={2}\\n\".format(b, b, fb))\n",
        "  if (fa*fb<0):\n",
        "    while True:\n",
        "      i+=1\n",
        "      c=round(((a*fb)-(b*fa))/(fb-fa),2)\n",
        "      fc=round(f(x=c, formula=formula),2)\n",
        "      print(\"i={6} a={0}  b={1}  f(a)={2}  f(b)={3}  c={4}  f(c)={5}\".format(a,b,fa,fb,c,fc, i))\n",
        "      if (listC.count(c)>0):\n",
        "        print(\"i={6} a={0}  b={1}  f(a)={2}  f(b)={3}  (c={4})  f(c)={5}\".format(a,b,fa,fb,c,fc, i+1))\n",
        "        print(\"root={0}\".format(c))\n",
        "        return c\n",
        "      else:\n",
        "        listC.append(c)\n",
        "        if (fa*fc<=0):\n",
        "          b=c\n",
        "          fb=fc\n",
        "        else:\n",
        "          a=c\n",
        "          fa=fc"
      ],
      "execution_count": 6,
      "outputs": []
    },
    {
      "cell_type": "code",
      "metadata": {
        "id": "HCxh_AByp_VY",
        "colab_type": "code",
        "colab": {
          "base_uri": "https://localhost:8080/",
          "height": 208
        },
        "outputId": "3459fb14-c229-40c1-b06a-78ea29be73c1"
      },
      "source": [
        "falseposition(formula=\"exp(-x)*(3.2*sin(x)-0.5*cos(x))\")"
      ],
      "execution_count": 7,
      "outputs": [
        {
          "output_type": "stream",
          "text": [
            "Let,\n",
            "a=0, f(0)=-0.5\n",
            "b=1, f(1)=0.89\n",
            "\n",
            "i=1 a=0  b=1  f(a)=-0.5  f(b)=0.89  c=0.36  f(c)=0.46\n",
            "i=2 a=0  b=0.36  f(a)=-0.5  f(b)=0.46  c=0.19  f(c)=0.09\n",
            "i=3 a=0  b=0.19  f(a)=-0.5  f(b)=0.09  c=0.16  f(c)=0.01\n",
            "i=4 a=0  b=0.16  f(a)=-0.5  f(b)=0.01  c=0.16  f(c)=0.01\n",
            "i=5 a=0  b=0.16  f(a)=-0.5  f(b)=0.01  (c=0.16)  f(c)=0.01\n",
            "root=0.16\n"
          ],
          "name": "stdout"
        },
        {
          "output_type": "execute_result",
          "data": {
            "text/plain": [
              "0.16"
            ]
          },
          "metadata": {
            "tags": []
          },
          "execution_count": 7
        }
      ]
    },
    {
      "cell_type": "code",
      "metadata": {
        "id": "q3LgzGujqCWn",
        "colab_type": "code",
        "colab": {}
      },
      "source": [
        ""
      ],
      "execution_count": null,
      "outputs": []
    }
  ]
}