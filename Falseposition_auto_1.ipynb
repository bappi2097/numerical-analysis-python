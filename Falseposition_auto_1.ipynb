{
  "nbformat": 4,
  "nbformat_minor": 0,
  "metadata": {
    "colab": {
      "name": "Falseposition-auto-1.ipynb",
      "provenance": [],
      "authorship_tag": "ABX9TyMTMe4V32R320X9HahS8sA7",
      "include_colab_link": true
    },
    "kernelspec": {
      "name": "python3",
      "display_name": "Python 3"
    }
  },
  "cells": [
    {
      "cell_type": "markdown",
      "metadata": {
        "id": "view-in-github",
        "colab_type": "text"
      },
      "source": [
        "<a href=\"https://colab.research.google.com/github/bappi2097/numerical-analysis-python/blob/master/Falseposition_auto_1.ipynb\" target=\"_parent\"><img src=\"https://colab.research.google.com/assets/colab-badge.svg\" alt=\"Open In Colab\"/></a>"
      ]
    },
    {
      "cell_type": "code",
      "metadata": {
        "id": "MpDComXYpv9n",
        "colab_type": "code",
        "colab": {}
      },
      "source": [
        "import sympy as sy\n",
        "def f(formula, **args):\n",
        "  expr = sy.sympify(formula)\n",
        "  return expr.evalf(subs=args)"
      ],
      "execution_count": 1,
      "outputs": []
    },
    {
      "cell_type": "code",
      "metadata": {
        "id": "V__iiryFp5mJ",
        "colab_type": "code",
        "colab": {}
      },
      "source": [
        "def autoval(formula):\n",
        "  rangeL=[]\n",
        "  for i in range(0, 101):\n",
        "    if (f(x=i, formula=formula)<0):\n",
        "      rangeL.append(i)\n",
        "      break\n",
        "  if (len(rangeL)!=1):\n",
        "    for i in range(1, -101, -1):\n",
        "      if (f(x=i, formula=formula)<0):\n",
        "        rangeL.append(i)\n",
        "        break\n",
        "  for i in range(0, 101):\n",
        "    if (f(x=i, formula=formula)>0):\n",
        "      rangeL.append(i)\n",
        "      break\n",
        "  if (len(rangeL)!=2):\n",
        "    for i in range(1, -101, -1):\n",
        "      if (f(x=i, formula=formula)>0):\n",
        "        rangeL.append(i)\n",
        "        break\n",
        "  if (f(x=rangeL[0], formula=formula)*f(x=rangeL[1], formula=formula)<0):\n",
        "    return rangeL"
      ],
      "execution_count": 2,
      "outputs": []
    },
    {
      "cell_type": "code",
      "metadata": {
        "id": "Xcj_xCgJp8vd",
        "colab_type": "code",
        "colab": {}
      },
      "source": [
        "def falseposition(formula):\n",
        "  rangeL=autoval(formula=formula)\n",
        "  a=rangeL[0]\n",
        "  b=rangeL[1]\n",
        "  c=0\n",
        "  fa= round(f(x=a, formula=formula), 2)\n",
        "  fb=round(f(x=b, formula=formula), 2)\n",
        "  fc=0\n",
        "  listC=[]\n",
        "  i=0\n",
        "  print(\"Let,\")\n",
        "  print(\"a={0}, f({1})={2}\".format(a, a, fa))\n",
        "  print(\"b={0}, f({1})={2}\\n\".format(b, b, fb))\n",
        "  print(\"f(a)*f(b)<0 [condition true]\\n\")\n",
        "  if (fa*fb<0):\n",
        "    while True:\n",
        "      i+=1\n",
        "      c=round(((a*fb)-(b*fa))/(fb-fa),2)\n",
        "      fc=round(f(x=c, formula=formula),2)\n",
        "      print(\"i={6} a={0}  b={1}  f(a)={2}  f(b)={3}  c={4}  f(c)={5}\".format(a,b,fa,fb,c,fc, i))\n",
        "      if (listC.count(c)>0):\n",
        "        print(\"i={6} a={0}  b={1}  f(a)={2}  f(b)={3}  (c={4})  f(c)={5}\".format(a,b,fa,fb,c,fc, i+1))\n",
        "        print(\"root={0}\".format(c))\n",
        "        return c\n",
        "      else:\n",
        "        listC.append(c)\n",
        "        if (fa*fc<=0):\n",
        "          b=c\n",
        "          fb=fc\n",
        "        else:\n",
        "          a=c\n",
        "          fa=fc"
      ],
      "execution_count": 12,
      "outputs": []
    },
    {
      "cell_type": "code",
      "metadata": {
        "id": "HCxh_AByp_VY",
        "colab_type": "code",
        "colab": {
          "base_uri": "https://localhost:8080/",
          "height": 329
        },
        "outputId": "e6cf1fd9-8b6a-459e-b93e-7dcdbf855357"
      },
      "source": [
        "falseposition(formula=\"x**6-9*x-10\")"
      ],
      "execution_count": 13,
      "outputs": [
        {
          "output_type": "stream",
          "text": [
            "Let,\n",
            "a=0, f(0)=-10.0\n",
            "b=2, f(2)=36.0\n",
            "\n",
            "f(a)*f(b)<0 [condition true]\n",
            "\n",
            "i=1 a=0  b=2  f(a)=-10.0  f(b)=36.0  c=0.43  f(c)=-13.86\n",
            "i=2 a=0.43  b=2  f(a)=-13.86  f(b)=36.0  c=0.87  f(c)=-17.4\n",
            "i=3 a=0.87  b=2  f(a)=-17.4  f(b)=36.0  c=1.24  f(c)=-17.52\n",
            "i=4 a=1.24  b=2  f(a)=-17.52  f(b)=36.0  c=1.49  f(c)=-12.47\n",
            "i=5 a=1.49  b=2  f(a)=-12.47  f(b)=36.0  c=1.62  f(c)=-6.5\n",
            "i=6 a=1.62  b=2  f(a)=-6.5  f(b)=36.0  c=1.68  f(c)=-2.64\n",
            "i=7 a=1.68  b=2  f(a)=-2.64  f(b)=36.0  c=1.7  f(c)=-1.16\n",
            "i=8 a=1.7  b=2  f(a)=-1.16  f(b)=36.0  c=1.71  f(c)=-0.39\n",
            "i=9 a=1.71  b=2  f(a)=-0.39  f(b)=36.0  c=1.71  f(c)=-0.39\n",
            "i=10 a=1.71  b=2  f(a)=-0.39  f(b)=36.0  (c=1.71)  f(c)=-0.39\n",
            "root=1.71\n"
          ],
          "name": "stdout"
        },
        {
          "output_type": "execute_result",
          "data": {
            "text/plain": [
              "1.71"
            ]
          },
          "metadata": {
            "tags": []
          },
          "execution_count": 13
        }
      ]
    },
    {
      "cell_type": "code",
      "metadata": {
        "id": "q3LgzGujqCWn",
        "colab_type": "code",
        "colab": {}
      },
      "source": [
        ""
      ],
      "execution_count": null,
      "outputs": []
    }
  ]
}