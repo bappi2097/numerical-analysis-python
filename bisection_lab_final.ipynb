{
  "nbformat": 4,
  "nbformat_minor": 0,
  "metadata": {
    "colab": {
      "name": "bisection-lab-final.ipynb",
      "provenance": [],
      "authorship_tag": "ABX9TyPOxIOMzy65qV/aOg1sx56g",
      "include_colab_link": true
    },
    "kernelspec": {
      "name": "python3",
      "display_name": "Python 3"
    }
  },
  "cells": [
    {
      "cell_type": "markdown",
      "metadata": {
        "id": "view-in-github",
        "colab_type": "text"
      },
      "source": [
        "<a href=\"https://colab.research.google.com/github/bappi2097/numerical-analysis-python/blob/master/bisection_lab_final.ipynb\" target=\"_parent\"><img src=\"https://colab.research.google.com/assets/colab-badge.svg\" alt=\"Open In Colab\"/></a>"
      ]
    },
    {
      "cell_type": "code",
      "metadata": {
        "id": "PWrbtmGhTehg",
        "colab_type": "code",
        "colab": {}
      },
      "source": [
        "import math\n",
        "def f(x): # this function return math value\n",
        "  return round(3*x-math.cos(x)-1, 2)"
      ],
      "execution_count": 18,
      "outputs": []
    },
    {
      "cell_type": "code",
      "metadata": {
        "id": "HwrXI8GeUOny",
        "colab_type": "code",
        "colab": {}
      },
      "source": [
        "def bisectionMethod():\n",
        "  a = int(input(\"Enter A: \"))\n",
        "  b = int(input(\"Enter B: \"))\n",
        "  list_C=[]\n",
        "  if (f(a)*f(b)<0): # if f(a)*f(c) less than 0(Zero) than condition true\n",
        "    while True: # run loop until return value of c or root\n",
        "      c=(a+b)/2\n",
        "      if (list_C.count(c)>0): #if value of c already exist than return root c\n",
        "        return round(c, 2)\n",
        "      else:\n",
        "        if (f(a)*f(c)<0): # if f(a)*f(c) less than equal to '0' zero than b=c\n",
        "          b=c \n",
        "        else: # else a=c\n",
        "          a=c\n",
        "        list_C.append(c) #insert last value of 'c' into list\n",
        "  else: # if f(a)*f(c) not less than 0(Zero) than print message\n",
        "    print('This value does not satisfied f(a)*f(b)<0 condition')"
      ],
      "execution_count": 19,
      "outputs": []
    },
    {
      "cell_type": "code",
      "metadata": {
        "id": "sb7uE9JYUTLn",
        "colab_type": "code",
        "colab": {
          "base_uri": "https://localhost:8080/",
          "height": 69
        },
        "outputId": "8a618bcf-7df2-47db-821d-092b96cb2f86"
      },
      "source": [
        "bisectionMethod()"
      ],
      "execution_count": 20,
      "outputs": [
        {
          "output_type": "stream",
          "text": [
            "Enter A: 0\n",
            "Enter B: 1\n"
          ],
          "name": "stdout"
        },
        {
          "output_type": "execute_result",
          "data": {
            "text/plain": [
              "0.61"
            ]
          },
          "metadata": {
            "tags": []
          },
          "execution_count": 20
        }
      ]
    },
    {
      "cell_type": "code",
      "metadata": {
        "id": "OucM3t5pVcHI",
        "colab_type": "code",
        "colab": {}
      },
      "source": [
        ""
      ],
      "execution_count": null,
      "outputs": []
    }
  ]
}