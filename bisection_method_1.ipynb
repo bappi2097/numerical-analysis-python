{
  "nbformat": 4,
  "nbformat_minor": 0,
  "metadata": {
    "colab": {
      "name": "bisection-method-1.ipynb",
      "provenance": [],
      "collapsed_sections": [],
      "authorship_tag": "ABX9TyPdcqaSl3Cwo8adJlnULAOS",
      "include_colab_link": true
    },
    "kernelspec": {
      "name": "python3",
      "display_name": "Python 3"
    }
  },
  "cells": [
    {
      "cell_type": "markdown",
      "metadata": {
        "id": "view-in-github",
        "colab_type": "text"
      },
      "source": [
        "<a href=\"https://colab.research.google.com/github/bappi2097/numerical-analysis-python/blob/master/bisection_method_1.ipynb\" target=\"_parent\"><img src=\"https://colab.research.google.com/assets/colab-badge.svg\" alt=\"Open In Colab\"/></a>"
      ]
    },
    {
      "cell_type": "code",
      "metadata": {
        "id": "RcL3eF3hRxCK",
        "colab_type": "code",
        "colab": {}
      },
      "source": [
        "def f(x):\n",
        "  return x**3-x**2+2\n",
        "\n",
        "\n",
        "def bisection():\n",
        "  a = int(input(\"Input A:\"));\n",
        "  b = int(input(\"Input B:\"));\n",
        "  c = 0;\n",
        "  i=0;\n",
        "  listC=[];\n",
        "  if f(a)*f(b)<0:\n",
        "    while(True): \n",
        "      c=(a+b)/2;\n",
        "      if listC.count(c)>0: # if c has repeat value\n",
        "        return c\n",
        "      else: \n",
        "        listC.append(c) # add C value on list\n",
        "        if(f(a)*f(c)<0): #if f(a)*f(c) less than 0(zero) \n",
        "          b=c \n",
        "        elif(f(a)*f(c)>0) :#if f(a)*f(c) greater than 0(zero) \n",
        "          a=c\n",
        "        else:#if f(a)*f(c) equal equal 0(zero) \n",
        "          return c \n",
        "  else:\n",
        "    print(\"Enter right value of a & b\")\n",
        "    return bisection()\n",
        "\n",
        "print(bisection())"
      ],
      "execution_count": null,
      "outputs": []
    }
  ]
}