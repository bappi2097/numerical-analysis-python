{
  "nbformat": 4,
  "nbformat_minor": 0,
  "metadata": {
    "colab": {
      "name": "false-position-method-1.ipynb",
      "provenance": [],
      "authorship_tag": "ABX9TyNnz2Yg5seHEq0OYctshUF7",
      "include_colab_link": true
    },
    "kernelspec": {
      "name": "python3",
      "display_name": "Python 3"
    }
  },
  "cells": [
    {
      "cell_type": "markdown",
      "metadata": {
        "id": "view-in-github",
        "colab_type": "text"
      },
      "source": [
        "<a href=\"https://colab.research.google.com/github/bappi2097/numerical-analysis-python/blob/master/false_position_method_1.ipynb\" target=\"_parent\"><img src=\"https://colab.research.google.com/assets/colab-badge.svg\" alt=\"Open In Colab\"/></a>"
      ]
    },
    {
      "cell_type": "code",
      "metadata": {
        "id": "GV9PQZr8SbZX",
        "colab_type": "code",
        "colab": {}
      },
      "source": [
        "import sympy as sy\n",
        "def f(formula, **args):\n",
        "  expr = sy.sympify(formula)\n",
        "  return expr.evalf(subs=args)"
      ],
      "execution_count": 3,
      "outputs": []
    },
    {
      "cell_type": "code",
      "metadata": {
        "id": "0r2tCyjweXZ8",
        "colab_type": "code",
        "colab": {}
      },
      "source": [
        "def falseposition(a, b, formula):\n",
        "  c = 0\n",
        "  list_of_c = []\n",
        "  if(f(x=a, formula=formula)*f(x=b, formula=formula)<0):\n",
        "    while(True):\n",
        "      c = (((a*f(x=b, formula=formula))-(b*f(x=a, formula=formula)))/(f(x=b, formula=formula)-f(x=a, formula=formula)))\n",
        "      if(list_of_c.count(c)>0):\n",
        "        return [True, c]\n",
        "      else:\n",
        "        list_of_c.append(c)\n",
        "        if(f(x=a, formula=formula)*f(x=c, formula=formula)<0):\n",
        "          b=c\n",
        "        elif(f(x=a, formula=formula)*f(x=c, formula=formula)>0):\n",
        "          a=c\n",
        "        else:\n",
        "          return [True, c]\n",
        "  else:\n",
        "    return [False]"
      ],
      "execution_count": 9,
      "outputs": []
    },
    {
      "cell_type": "code",
      "metadata": {
        "id": "FYDLuXI7gNbH",
        "colab_type": "code",
        "colab": {
          "base_uri": "https://localhost:8080/",
          "height": 163
        },
        "outputId": "80341158-085b-471b-fba2-f615ea7b9eda"
      },
      "source": [
        "fp = falseposition(int(input(\"A:\")),int(input(\"B: \")), \"x**3-x**2+2\")\n",
        "while fp[0]!=True:\n",
        "  print(\"Please input right value\")\n",
        "  fp = falseposition(int(input(\"A:\")),int(input(\"B: \")), \"x**3-x**2+2\")\n",
        "print(fp[1])"
      ],
      "execution_count": 8,
      "outputs": [
        {
          "output_type": "stream",
          "text": [
            "A:0\n",
            "B: 0\n",
            "Please input right value\n",
            "A:0\n",
            "B: 2\n",
            "Please input right value\n",
            "A:0\n",
            "B: -2\n",
            "-1.00000000000000\n"
          ],
          "name": "stdout"
        }
      ]
    },
    {
      "cell_type": "code",
      "metadata": {
        "id": "X8niaWUBgUgz",
        "colab_type": "code",
        "colab": {}
      },
      "source": [
        ""
      ],
      "execution_count": 2,
      "outputs": []
    }
  ]
}