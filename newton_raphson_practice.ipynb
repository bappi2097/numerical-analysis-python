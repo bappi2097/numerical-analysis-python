{
  "nbformat": 4,
  "nbformat_minor": 0,
  "metadata": {
    "colab": {
      "name": "newton-raphson-practice.ipynb",
      "provenance": [],
      "authorship_tag": "ABX9TyNxnInZ7XjK8OqGWDWnW3/t",
      "include_colab_link": true
    },
    "kernelspec": {
      "name": "python3",
      "display_name": "Python 3"
    }
  },
  "cells": [
    {
      "cell_type": "markdown",
      "metadata": {
        "id": "view-in-github",
        "colab_type": "text"
      },
      "source": [
        "<a href=\"https://colab.research.google.com/github/bappi2097/numerical-analysis-python/blob/master/newton_raphson_practice.ipynb\" target=\"_parent\"><img src=\"https://colab.research.google.com/assets/colab-badge.svg\" alt=\"Open In Colab\"/></a>"
      ]
    },
    {
      "cell_type": "code",
      "metadata": {
        "id": "bbuSNetgwZi2",
        "colab_type": "code",
        "colab": {}
      },
      "source": [
        "from sympy import *\n",
        "import sympy as sy\n",
        "def f(formula, **args):\n",
        "  expr = sy.sympify(formula)\n",
        "  return expr.evalf(subs=args)"
      ],
      "execution_count": 63,
      "outputs": []
    },
    {
      "cell_type": "code",
      "metadata": {
        "id": "-BmuaRe9yLRh",
        "colab_type": "code",
        "colab": {}
      },
      "source": [
        "def fP(formula, **args):\n",
        "  expr = sy.sympify(formula)\n",
        "  formula = expr.diff(' '.join(list (args.keys())))\n",
        "  return formula.evalf(subs=args)"
      ],
      "execution_count": 127,
      "outputs": []
    },
    {
      "cell_type": "code",
      "metadata": {
        "id": "XjV_M1st0XQE",
        "colab_type": "code",
        "colab": {}
      },
      "source": [
        "def autoval(formula):\n",
        "  rangeL=[]\n",
        "  for i in range(0, 101):\n",
        "    if (f(x=i, formula=formula)<0):\n",
        "      rangeL.append(i)\n",
        "      break\n",
        "  if (len(rangeL)!=1):\n",
        "    for i in range(1, -101, -1):\n",
        "      if (f(x=i, formula=formula)<0):\n",
        "        rangeL.append(i)\n",
        "        break\n",
        "  for i in range(0, 101):\n",
        "    if (f(x=i, formula=formula)>0):\n",
        "      rangeL.append(i)\n",
        "      break\n",
        "  if (len(rangeL)!=2):\n",
        "    for i in range(1, -101, -1):\n",
        "      if (f(x=i, formula=formula)>0):\n",
        "        rangeL.append(i)\n",
        "        break\n",
        "  if (f(x=rangeL[0], formula=formula)*f(x=rangeL[1], formula=formula)<0):\n",
        "    return rangeL"
      ],
      "execution_count": 128,
      "outputs": []
    },
    {
      "cell_type": "code",
      "metadata": {
        "id": "jUVrQLX13kNH",
        "colab_type": "code",
        "colab": {}
      },
      "source": [
        "def newtonRaphson(formula):\n",
        "  rangeL=autoval(formula=formula)\n",
        "  print(type(rangeL))\n",
        "  x[0]=int(rangeL[0])\n",
        "  listC=[]\n",
        "  i=0\n",
        "  # while True:\n",
        "  #   i+=1\n",
        "  #   f=round(f(formula=formula, x=x[i-1]),2)\n",
        "  #   fP=round(fP(formula=formula, x=x[i-1]),2)\n",
        "  #   x[i+1] = round((x[i-1]-(f/fP)),2)\n",
        "  #   if(listC.count(x[i+1])>0):\n",
        "  #     return x[i+1]\n",
        "  #   else:\n",
        "  #     listC.append(x[i+1])"
      ],
      "execution_count": 132,
      "outputs": []
    },
    {
      "cell_type": "code",
      "metadata": {
        "id": "ht4SLlsl932W",
        "colab_type": "code",
        "colab": {
          "base_uri": "https://localhost:8080/",
          "height": 310
        },
        "outputId": "c92f648b-c74e-43bd-fe3b-8195148e8c1c"
      },
      "source": [
        "newtonRaphson('3*x-cos(x)-1')"
      ],
      "execution_count": 133,
      "outputs": [
        {
          "output_type": "stream",
          "text": [
            "<class 'list'>\n"
          ],
          "name": "stdout"
        },
        {
          "output_type": "error",
          "ename": "TypeError",
          "evalue": "ignored",
          "traceback": [
            "\u001b[0;31m---------------------------------------------------------------------------\u001b[0m",
            "\u001b[0;31mTypeError\u001b[0m                                 Traceback (most recent call last)",
            "\u001b[0;32m<ipython-input-133-fe0691dfcb47>\u001b[0m in \u001b[0;36m<module>\u001b[0;34m()\u001b[0m\n\u001b[0;32m----> 1\u001b[0;31m \u001b[0mnewtonRaphson\u001b[0m\u001b[0;34m(\u001b[0m\u001b[0;34m'3*x-cos(x)-1'\u001b[0m\u001b[0;34m)\u001b[0m\u001b[0;34m\u001b[0m\u001b[0;34m\u001b[0m\u001b[0m\n\u001b[0m",
            "\u001b[0;32m<ipython-input-132-3d6c2b07c6d1>\u001b[0m in \u001b[0;36mnewtonRaphson\u001b[0;34m(formula)\u001b[0m\n\u001b[1;32m      2\u001b[0m   \u001b[0mrangeL\u001b[0m\u001b[0;34m=\u001b[0m\u001b[0mautoval\u001b[0m\u001b[0;34m(\u001b[0m\u001b[0mformula\u001b[0m\u001b[0;34m=\u001b[0m\u001b[0mformula\u001b[0m\u001b[0;34m)\u001b[0m\u001b[0;34m\u001b[0m\u001b[0;34m\u001b[0m\u001b[0m\n\u001b[1;32m      3\u001b[0m   \u001b[0mprint\u001b[0m\u001b[0;34m(\u001b[0m\u001b[0mtype\u001b[0m\u001b[0;34m(\u001b[0m\u001b[0mrangeL\u001b[0m\u001b[0;34m)\u001b[0m\u001b[0;34m)\u001b[0m\u001b[0;34m\u001b[0m\u001b[0;34m\u001b[0m\u001b[0m\n\u001b[0;32m----> 4\u001b[0;31m   \u001b[0mx\u001b[0m\u001b[0;34m[\u001b[0m\u001b[0;36m0\u001b[0m\u001b[0;34m]\u001b[0m\u001b[0;34m=\u001b[0m\u001b[0mint\u001b[0m\u001b[0;34m(\u001b[0m \u001b[0mrangeL\u001b[0m\u001b[0;34m[\u001b[0m\u001b[0;36m0\u001b[0m\u001b[0;34m]\u001b[0m\u001b[0;34m)\u001b[0m\u001b[0;34m\u001b[0m\u001b[0;34m\u001b[0m\u001b[0m\n\u001b[0m\u001b[1;32m      5\u001b[0m   \u001b[0mlistC\u001b[0m\u001b[0;34m=\u001b[0m\u001b[0;34m[\u001b[0m\u001b[0;34m]\u001b[0m\u001b[0;34m\u001b[0m\u001b[0;34m\u001b[0m\u001b[0m\n\u001b[1;32m      6\u001b[0m   \u001b[0mi\u001b[0m\u001b[0;34m=\u001b[0m\u001b[0;36m0\u001b[0m\u001b[0;34m\u001b[0m\u001b[0;34m\u001b[0m\u001b[0m\n",
            "\u001b[0;31mTypeError\u001b[0m: 'Symbol' object does not support item assignment"
          ]
        }
      ]
    },
    {
      "cell_type": "code",
      "metadata": {
        "id": "RnXvKvy5-AJ-",
        "colab_type": "code",
        "colab": {}
      },
      "source": [
        ""
      ],
      "execution_count": null,
      "outputs": []
    }
  ]
}