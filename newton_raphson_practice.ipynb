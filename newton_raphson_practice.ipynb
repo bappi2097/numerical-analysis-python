{
  "nbformat": 4,
  "nbformat_minor": 0,
  "metadata": {
    "colab": {
      "name": "newton-raphson-practice.ipynb",
      "provenance": [],
      "include_colab_link": true
    },
    "kernelspec": {
      "name": "python3",
      "display_name": "Python 3"
    }
  },
  "cells": [
    {
      "cell_type": "markdown",
      "metadata": {
        "id": "view-in-github",
        "colab_type": "text"
      },
      "source": [
        "<a href=\"https://colab.research.google.com/github/bappi2097/numerical-analysis-python/blob/master/newton_raphson_practice.ipynb\" target=\"_parent\"><img src=\"https://colab.research.google.com/assets/colab-badge.svg\" alt=\"Open In Colab\"/></a>"
      ]
    },
    {
      "cell_type": "code",
      "metadata": {
        "id": "bbuSNetgwZi2",
        "colab_type": "code",
        "colab": {}
      },
      "source": [
        "from sympy import *\n",
        "import sympy as sy\n",
        "def f(formula, **args):\n",
        "  expr = sy.sympify(formula)\n",
        "  return expr.evalf(subs=args)"
      ],
      "execution_count": 3,
      "outputs": []
    },
    {
      "cell_type": "code",
      "metadata": {
        "id": "-BmuaRe9yLRh",
        "colab_type": "code",
        "colab": {}
      },
      "source": [
        "def fP(formula, **args):\n",
        "  expr = sy.sympify(formula)\n",
        "  formula = expr.diff(' '.join(list (args.keys())))\n",
        "  return formula.evalf(subs=args)"
      ],
      "execution_count": 31,
      "outputs": []
    },
    {
      "cell_type": "code",
      "metadata": {
        "id": "jUVrQLX13kNH",
        "colab_type": "code",
        "colab": {}
      },
      "source": [
        "def newtonRaphson(formula, **args):\n",
        "  print(\"f(x)={0}\".format(sy.sympify(formula)))\n",
        "  print(\"f'(x)={0}\\n\\n\".format(sy.sympify(formula).diff(' '.join(['x']))))\n",
        "  x=[]\n",
        "  for key,value in args.items():\n",
        "    x.append(value)\n",
        "  if (f(x=x[0], formula=formula)*f(x=x[1], formula=formula)<0):\n",
        "    x.pop(1)\n",
        "    listC=[]\n",
        "    i=0\n",
        "    while True:\n",
        "      i+=1\n",
        "      fv=round(f(x=x[i-1], formula=formula),2)\n",
        "      fPv=round(fP(x=x[i-1], formula=formula),2)\n",
        "      x.append(round((x[i-1]-(fv/fPv)),2))\n",
        "      print(\"x={1} f(Xn)={2}  f'(Xn)={3}  Xn+1={4}\".format(i, x[i-1], fv, fPv, x[i]))\n",
        "      if(listC.count(x[i])>0):\n",
        "        return x[i]\n",
        "      else:\n",
        "        listC.append(x[i])\n",
        "  else:\n",
        "    return \"Input value of a, b again\";"
      ],
      "execution_count": 45,
      "outputs": []
    },
    {
      "cell_type": "code",
      "metadata": {
        "id": "ht4SLlsl932W",
        "colab_type": "code",
        "colab": {
          "base_uri": "https://localhost:8080/",
          "height": 156
        },
        "outputId": "8f64c267-2c99-468e-fba7-f82065336d49"
      },
      "source": [
        "newtonRaphson(a=0.5, b=1.5,formula='(5*sin(x)**2)-(8*cos(x)**5)')"
      ],
      "execution_count": 46,
      "outputs": [
        {
          "output_type": "stream",
          "text": [
            "f(x)=5*sin(x)**2 - 8*cos(x)**5\n",
            "f'(x)=40*sin(x)*cos(x)**4 + 10*sin(x)*cos(x)\n",
            "\n",
            "\n",
            "x=0.5 f(Xn)=-3.01  f'(Xn)=15.58  Xn+1=0.69\n",
            "x=0.69 f(Xn)=-0.16  f'(Xn)=13.92  Xn+1=0.7\n",
            "x=0.7 f(Xn)=-0.02  f'(Xn)=13.75  Xn+1=0.7\n"
          ],
          "name": "stdout"
        },
        {
          "output_type": "execute_result",
          "data": {
            "text/plain": [
              "0.7"
            ]
          },
          "metadata": {
            "tags": []
          },
          "execution_count": 46
        }
      ]
    },
    {
      "cell_type": "code",
      "metadata": {
        "id": "RnXvKvy5-AJ-",
        "colab_type": "code",
        "colab": {}
      },
      "source": [
        ""
      ],
      "execution_count": null,
      "outputs": []
    }
  ]
}