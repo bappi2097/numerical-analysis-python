{
  "nbformat": 4,
  "nbformat_minor": 0,
  "metadata": {
    "colab": {
      "name": "newton-raphson-practice.ipynb",
      "provenance": [],
      "include_colab_link": true
    },
    "kernelspec": {
      "name": "python3",
      "display_name": "Python 3"
    }
  },
  "cells": [
    {
      "cell_type": "markdown",
      "metadata": {
        "id": "view-in-github",
        "colab_type": "text"
      },
      "source": [
        "<a href=\"https://colab.research.google.com/github/bappi2097/numerical-analysis-python/blob/master/newton_raphson_practice.ipynb\" target=\"_parent\"><img src=\"https://colab.research.google.com/assets/colab-badge.svg\" alt=\"Open In Colab\"/></a>"
      ]
    },
    {
      "cell_type": "code",
      "metadata": {
        "id": "bbuSNetgwZi2",
        "colab_type": "code",
        "colab": {}
      },
      "source": [
        "from sympy import *\n",
        "import sympy as sy\n",
        "def f(formula, **args):\n",
        "  expr = sy.sympify(formula)\n",
        "  return expr.evalf(subs=args)"
      ],
      "execution_count": 57,
      "outputs": []
    },
    {
      "cell_type": "code",
      "metadata": {
        "id": "-BmuaRe9yLRh",
        "colab_type": "code",
        "colab": {}
      },
      "source": [
        "def fP(formula, **args):\n",
        "  expr = sy.sympify(formula)\n",
        "  formula = expr.diff(' '.join(list (args.keys())))\n",
        "  return formula.evalf(subs=args)"
      ],
      "execution_count": 58,
      "outputs": []
    },
    {
      "cell_type": "code",
      "metadata": {
        "id": "jUVrQLX13kNH",
        "colab_type": "code",
        "colab": {}
      },
      "source": [
        "def newtonRaphson(formula, **args):\n",
        "  x=[]\n",
        "  for key,value in args.items():\n",
        "    x.append(value)\n",
        "  if (f(x=x[0], formula=formula)*f(x=x[1], formula=formula)<0):\n",
        "    listC=[]\n",
        "    i=0\n",
        "    while True:\n",
        "      i+=1\n",
        "      fv=round(f(x=x[i-1], formula=formula),2)\n",
        "      fPv=round(fP(x=x[i-1], formula=formula),2)\n",
        "      x.append(round((x[i-1]-(fv/fPv)),2))\n",
        "      print(\"i={0} f(Xn)={1}  f'(Xn)={2}  Xn+1={4}\".format(i, x[i-1], fv, fPv, x[i+1]))\n",
        "      if(listC.count(x[i+1])>0):\n",
        "        return x[i+1]\n",
        "      else:\n",
        "        listC.append(x[i+1])\n",
        "  else:\n",
        "    return \"Input value of a, b again\";"
      ],
      "execution_count": 71,
      "outputs": []
    },
    {
      "cell_type": "code",
      "metadata": {
        "id": "ht4SLlsl932W",
        "colab_type": "code",
        "colab": {
          "base_uri": "https://localhost:8080/",
          "height": 104
        },
        "outputId": "a8a5a10e-23b0-4078-a553-19e7377712d3"
      },
      "source": [
        "newtonRaphson(a=0, b=1,formula='3*x-cos(x)-1')"
      ],
      "execution_count": 72,
      "outputs": [
        {
          "output_type": "stream",
          "text": [
            "i=1 f(Xn)=0  f'(Xn)=-2.0  Xn+1=0.67\n",
            "i=2 f(Xn)=1  f'(Xn)=1.46  Xn+1=0.62\n",
            "i=3 f(Xn)=0.67  f'(Xn)=0.23  Xn+1=0.61\n",
            "i=4 f(Xn)=0.62  f'(Xn)=0.05  Xn+1=0.61\n"
          ],
          "name": "stdout"
        },
        {
          "output_type": "execute_result",
          "data": {
            "text/plain": [
              "0.61"
            ]
          },
          "metadata": {
            "tags": []
          },
          "execution_count": 72
        }
      ]
    },
    {
      "cell_type": "code",
      "metadata": {
        "id": "RnXvKvy5-AJ-",
        "colab_type": "code",
        "colab": {}
      },
      "source": [
        ""
      ],
      "execution_count": null,
      "outputs": []
    }
  ]
}