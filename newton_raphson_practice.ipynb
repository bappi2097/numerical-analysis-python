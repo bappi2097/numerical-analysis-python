{
  "nbformat": 4,
  "nbformat_minor": 0,
  "metadata": {
    "colab": {
      "name": "newton-raphson-practice.ipynb",
      "provenance": [],
      "include_colab_link": true
    },
    "kernelspec": {
      "name": "python3",
      "display_name": "Python 3"
    }
  },
  "cells": [
    {
      "cell_type": "markdown",
      "metadata": {
        "id": "view-in-github",
        "colab_type": "text"
      },
      "source": [
        "<a href=\"https://colab.research.google.com/github/bappi2097/numerical-analysis-python/blob/master/newton_raphson_practice.ipynb\" target=\"_parent\"><img src=\"https://colab.research.google.com/assets/colab-badge.svg\" alt=\"Open In Colab\"/></a>"
      ]
    },
    {
      "cell_type": "code",
      "metadata": {
        "id": "bbuSNetgwZi2",
        "colab_type": "code",
        "colab": {}
      },
      "source": [
        "from sympy import *\n",
        "import sympy as sy\n",
        "def f(formula, **args):\n",
        "  expr = sy.sympify(formula)\n",
        "  return expr.evalf(subs=args)"
      ],
      "execution_count": 57,
      "outputs": []
    },
    {
      "cell_type": "code",
      "metadata": {
        "id": "-BmuaRe9yLRh",
        "colab_type": "code",
        "colab": {}
      },
      "source": [
        "def fP(formula, **args):\n",
        "  expr = sy.sympify(formula)\n",
        "  formula = expr.diff(' '.join(list (args.keys())))\n",
        "  return formula.evalf(subs=args)"
      ],
      "execution_count": 58,
      "outputs": []
    },
    {
      "cell_type": "code",
      "metadata": {
        "id": "jUVrQLX13kNH",
        "colab_type": "code",
        "colab": {}
      },
      "source": [
        "def newtonRaphson(formula, **args):\n",
        "  x=[]\n",
        "  for key,value in args.items():\n",
        "    x.append(value)\n",
        "  if (f(x=x[0], formula=formula)*f(x=x[1], formula=formula)<0):\n",
        "    listC=[]\n",
        "    i=0\n",
        "    while True:\n",
        "      i+=1\n",
        "      fv=round(f(x=x[i-1], formula=formula),2)\n",
        "      fPv=round(fP(x=x[i-1], formula=formula),2)\n",
        "      # print(\"%.2f %.2f %.2f\", format(x[i-1], fv, fPv))\n",
        "      x.append(round((x[i-1]-(fv/fPv)),2))\n",
        "      if(listC.count(x[i+1])>0):\n",
        "        return x[i+1]\n",
        "      else:\n",
        "        listC.append(x[i+1])\n",
        "  else:\n",
        "    return \"Input value of a, b again\";"
      ],
      "execution_count": 61,
      "outputs": []
    },
    {
      "cell_type": "code",
      "metadata": {
        "id": "ht4SLlsl932W",
        "colab_type": "code",
        "colab": {
          "base_uri": "https://localhost:8080/",
          "height": 34
        },
        "outputId": "9a489b21-d021-4822-d782-9c227dcceaba"
      },
      "source": [
        "newtonRaphson(a=0, b=1,formula='3*x-cos(x)-1')"
      ],
      "execution_count": 62,
      "outputs": [
        {
          "output_type": "execute_result",
          "data": {
            "text/plain": [
              "0.61"
            ]
          },
          "metadata": {
            "tags": []
          },
          "execution_count": 62
        }
      ]
    },
    {
      "cell_type": "code",
      "metadata": {
        "id": "RnXvKvy5-AJ-",
        "colab_type": "code",
        "colab": {}
      },
      "source": [
        ""
      ],
      "execution_count": null,
      "outputs": []
    }
  ]
}