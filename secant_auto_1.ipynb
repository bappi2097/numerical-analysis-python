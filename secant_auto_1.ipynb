{
  "nbformat": 4,
  "nbformat_minor": 0,
  "metadata": {
    "colab": {
      "name": "secant-auto-1.ipynb",
      "provenance": [],
      "authorship_tag": "ABX9TyP1V4ob2NyySQAkwQwYei1j",
      "include_colab_link": true
    },
    "kernelspec": {
      "name": "python3",
      "display_name": "Python 3"
    }
  },
  "cells": [
    {
      "cell_type": "markdown",
      "metadata": {
        "id": "view-in-github",
        "colab_type": "text"
      },
      "source": [
        "<a href=\"https://colab.research.google.com/github/bappi2097/numerical-analysis-python/blob/master/secant_auto_1.ipynb\" target=\"_parent\"><img src=\"https://colab.research.google.com/assets/colab-badge.svg\" alt=\"Open In Colab\"/></a>"
      ]
    },
    {
      "cell_type": "code",
      "metadata": {
        "id": "Yr2RQ76qrwP2",
        "colab_type": "code",
        "colab": {}
      },
      "source": [
        "import sympy as sy\n",
        "def f(formula, **args):\n",
        "  expr = sy.sympify(formula)\n",
        "  return expr.evalf(subs=args)"
      ],
      "execution_count": 4,
      "outputs": []
    },
    {
      "cell_type": "code",
      "metadata": {
        "id": "8_dfHe_2r6Cj",
        "colab_type": "code",
        "colab": {}
      },
      "source": [
        "def secant(formula):\n",
        "  x=[0,1]\n",
        "  fx=[round(f(x=x[0], formula=formula), 2), round(f(x=x[1], formula=formula), 2)]\n",
        "  print(\"f(x)=\"+formula)\n",
        "  print(\"x0=0, f(x0)=\"+str(fx[0]))\n",
        "  print(\"x1=1, f(x1)=\"+str(fx[1]))\n",
        "  print(\"xi+1 = xi-((xi-xi-1)/(f(xi)-f(xi-1))*f(xi)\\n\")\n",
        "  i=0\n",
        "  while True:\n",
        "    i+=1\n",
        "    xplus=round(x[i]-(((x[i]-x[i-1])/(fx[i]-fx[i-1]))*fx[i]), 2)\n",
        "    print(\"x{0}=x{1}-((x{1}-x{2})/(f(x{1})-f(x{2})))*f(x{1})\".format(i+1, i, i-1))\n",
        "    print(\"x{0}={1}-(({1}-{2})/({3}-{4}))*{3}\\nx{0}={5}, f(x{0})={6}\\n\".format(i+1, x[i], x[i-1], fx[i], fx[i-1], xplus, round(f(x=xplus, formula=formula), 2)))\n",
        "    if (x.count(xplus)>0):\n",
        "      print(\"root={0}\".format(xplus))\n",
        "      return xplus\n",
        "    else:\n",
        "      x.append(xplus)\n",
        "      fx.append(round(f(x=xplus, formula=formula), 2))"
      ],
      "execution_count": 19,
      "outputs": []
    },
    {
      "cell_type": "code",
      "metadata": {
        "id": "oprcfcKNuNVW",
        "colab_type": "code",
        "colab": {
          "base_uri": "https://localhost:8080/",
          "height": 624
        },
        "outputId": "0218c77c-19c0-4a8b-fa75-18bf512a394d"
      },
      "source": [
        "secant(formula=\"8*sin(x)*exp(-x)-1\")"
      ],
      "execution_count": 20,
      "outputs": [
        {
          "output_type": "stream",
          "text": [
            "f(x)=8*sin(x)*exp(-x)-1\n",
            "x0=0, f(x0)=-1.0\n",
            "x1=1, f(x1)=1.48\n",
            "xi+1 = xi-((xi-xi-1)/(f(xi)-f(xi-1))*f(xi)\n",
            "\n",
            "x2=x1-((x1-x0)/(f(x1)-f(x0)))*f(x1)\n",
            "x2=1-((1-0)/(1.48--1.0))*1.48\n",
            "x2=0.4, f(x2)=1.09\n",
            "\n",
            "x3=x2-((x2-x1)/(f(x2)-f(x1)))*f(x2)\n",
            "x3=0.4-((0.4-1)/(1.09-1.48))*1.09\n",
            "x3=-1.28, f(x3)=-28.57\n",
            "\n",
            "x4=x3-((x3-x2)/(f(x3)-f(x2)))*f(x3)\n",
            "x4=-1.28-((-1.28-0.4)/(-28.57-1.09))*-28.57\n",
            "x4=0.34, f(x4)=0.9\n",
            "\n",
            "x5=x4-((x4-x3)/(f(x4)-f(x3)))*f(x4)\n",
            "x5=0.34-((0.34--1.28)/(0.9--28.57))*0.9\n",
            "x5=0.29, f(x5)=0.71\n",
            "\n",
            "x6=x5-((x5-x4)/(f(x5)-f(x4)))*f(x5)\n",
            "x6=0.29-((0.29-0.34)/(0.71-0.9))*0.71\n",
            "x6=0.1, f(x6)=-0.28\n",
            "\n",
            "x7=x6-((x6-x5)/(f(x6)-f(x5)))*f(x6)\n",
            "x7=0.1-((0.1-0.29)/(-0.28-0.71))*-0.28\n",
            "x7=0.15, f(x7)=0.03\n",
            "\n",
            "x8=x7-((x7-x6)/(f(x7)-f(x6)))*f(x7)\n",
            "x8=0.15-((0.15-0.1)/(0.03--0.28))*0.03\n",
            "x8=0.15, f(x8)=0.03\n",
            "\n",
            "root=0.15\n"
          ],
          "name": "stdout"
        },
        {
          "output_type": "execute_result",
          "data": {
            "text/plain": [
              "0.15"
            ]
          },
          "metadata": {
            "tags": []
          },
          "execution_count": 20
        }
      ]
    },
    {
      "cell_type": "code",
      "metadata": {
        "id": "GeQM7O2cvVWp",
        "colab_type": "code",
        "colab": {}
      },
      "source": [
        ""
      ],
      "execution_count": null,
      "outputs": []
    }
  ]
}