{
  "nbformat": 4,
  "nbformat_minor": 0,
  "metadata": {
    "colab": {
      "name": "secant-auto-1.ipynb",
      "provenance": [],
      "authorship_tag": "ABX9TyMKIVQFKsDTEcRsDWoDL9dX",
      "include_colab_link": true
    },
    "kernelspec": {
      "name": "python3",
      "display_name": "Python 3"
    }
  },
  "cells": [
    {
      "cell_type": "markdown",
      "metadata": {
        "id": "view-in-github",
        "colab_type": "text"
      },
      "source": [
        "<a href=\"https://colab.research.google.com/github/bappi2097/numerical-analysis-python/blob/master/secant_auto_1.ipynb\" target=\"_parent\"><img src=\"https://colab.research.google.com/assets/colab-badge.svg\" alt=\"Open In Colab\"/></a>"
      ]
    },
    {
      "cell_type": "code",
      "metadata": {
        "id": "Yr2RQ76qrwP2",
        "colab_type": "code",
        "colab": {}
      },
      "source": [
        "import sympy as sy\n",
        "def f(formula, **args):\n",
        "  expr = sy.sympify(formula)\n",
        "  return expr.evalf(subs=args)"
      ],
      "execution_count": 11,
      "outputs": []
    },
    {
      "cell_type": "code",
      "metadata": {
        "id": "8_dfHe_2r6Cj",
        "colab_type": "code",
        "colab": {}
      },
      "source": [
        "def secant(formula):\n",
        "  x=[0,1]\n",
        "  fx=[round(f(x=x[0], formula=formula), 2), round(f(x=x[1], formula=formula), 2)]\n",
        "  print(\"f(x)=\"+formula)\n",
        "  print(\"x0=0, f(x0)=\"+str(fx[0]))\n",
        "  print(\"x1=1, f(x1)=\"+str(fx[1]))\n",
        "  print(\"xi+1 = xi-((xi-xi-1)/(f(xi)-f(xi-1))*f(xi)\\n\")\n",
        "  i=0\n",
        "  while True:\n",
        "    i+=1\n",
        "    xplus=round(x[i]-(((x[i]-x[i-1])/(fx[i]-fx[i-1]))*fx[i]), 2)\n",
        "    print(\"x{0}=x{1}-(x{1}-x{2})/(f(x{1})-f(x{2}))*f(x{1})\".format(i+1, i, i-1))\n",
        "    print(\"x{0}={1}-({1}-{2})/({1}-{2})*{1}\\n\".format(i+1, x[i], x[i-1], fx[i], fx[i-1]))\n",
        "    if (x.count(xplus)>0):\n",
        "      print(\"root={0}\".format(xplus))\n",
        "      return xplus\n",
        "    else:\n",
        "      x.append(xplus)\n",
        "      fx.append(round(f(x=xplus, formula=formula), 2))"
      ],
      "execution_count": 42,
      "outputs": []
    },
    {
      "cell_type": "code",
      "metadata": {
        "id": "oprcfcKNuNVW",
        "colab_type": "code",
        "colab": {
          "base_uri": "https://localhost:8080/",
          "height": 294
        },
        "outputId": "be177d29-2c85-4c0d-910f-38d95522cad5"
      },
      "source": [
        "secant(formula=\"3*x-cos(x)-1\")"
      ],
      "execution_count": 44,
      "outputs": [
        {
          "output_type": "stream",
          "text": [
            "f(x)=3*x-cos(x)-1\n",
            "x0=0, f(x0)=-2.0\n",
            "x1=1, f(x1)=1.46\n",
            "xi+1 = xi-((xi-xi-1)/(f(xi)-f(xi-1))*f(xi)\n",
            "\n",
            "x2=x1-(x1-x0)/(f(x1)-f(x0))*f(x1)\n",
            "x2=1-(1-0)/(1-0)*1\n",
            "\n",
            "x3=x2-(x2-x1)/(f(x2)-f(x1))*f(x2)\n",
            "x3=0.58-(0.58-1)/(0.58-1)*0.58\n",
            "\n",
            "x4=x3-(x3-x2)/(f(x3)-f(x2))*f(x3)\n",
            "x4=0.61-(0.61-0.58)/(0.61-0.58)*0.61\n",
            "\n",
            "root=0.61\n"
          ],
          "name": "stdout"
        },
        {
          "output_type": "execute_result",
          "data": {
            "text/plain": [
              "0.61"
            ]
          },
          "metadata": {
            "tags": []
          },
          "execution_count": 44
        }
      ]
    },
    {
      "cell_type": "code",
      "metadata": {
        "id": "GeQM7O2cvVWp",
        "colab_type": "code",
        "colab": {}
      },
      "source": [
        ""
      ],
      "execution_count": null,
      "outputs": []
    }
  ]
}