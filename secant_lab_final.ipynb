{
  "nbformat": 4,
  "nbformat_minor": 0,
  "metadata": {
    "colab": {
      "name": "secant-lab-final.ipynb",
      "provenance": [],
      "authorship_tag": "ABX9TyON3HNkqLez7ow7k+2+vtVb",
      "include_colab_link": true
    },
    "kernelspec": {
      "name": "python3",
      "display_name": "Python 3"
    }
  },
  "cells": [
    {
      "cell_type": "markdown",
      "metadata": {
        "id": "view-in-github",
        "colab_type": "text"
      },
      "source": [
        "<a href=\"https://colab.research.google.com/github/bappi2097/numerical-analysis-python/blob/master/secant_lab_final.ipynb\" target=\"_parent\"><img src=\"https://colab.research.google.com/assets/colab-badge.svg\" alt=\"Open In Colab\"/></a>"
      ]
    },
    {
      "cell_type": "code",
      "metadata": {
        "id": "mGEZrAAWYrSl",
        "colab_type": "code",
        "colab": {}
      },
      "source": [
        "import math\n",
        "def f(x): # this function return equation value\n",
        "  return round(3*x-math.cos(x)-1, 2)"
      ],
      "execution_count": 1,
      "outputs": []
    },
    {
      "cell_type": "code",
      "metadata": {
        "id": "l77BJgm4YziY",
        "colab_type": "code",
        "colab": {}
      },
      "source": [
        "def secant():\n",
        "  x=[0,1] # make array of value 0 1\n",
        "  i=1\n",
        "  while(True):\n",
        "    fx=[f(x[i-1]),f(x[i])] # make array of f(Xi-1) & f(Xi)\n",
        "    x.append(x[i]-((x[i]-x[i-1])/(fx[1]-fx[0]))*fx[1]) # append value of Xi-((Xi-Xi+1)/f(Xi)-f(Xi-1))*f(Xi) \n",
        "    if (x.count(x[i+1])>1): # if Xi+1 exists in x then return root value\n",
        "        return round(x[i+1], 2)\n",
        "    i+=1"
      ],
      "execution_count": 9,
      "outputs": []
    },
    {
      "cell_type": "code",
      "metadata": {
        "id": "-7w7YKKXY7Ij",
        "colab_type": "code",
        "colab": {
          "base_uri": "https://localhost:8080/",
          "height": 34
        },
        "outputId": "f7cbf86a-d462-4743-a0e2-9443d7635f2e"
      },
      "source": [
        "secant()"
      ],
      "execution_count": 10,
      "outputs": [
        {
          "output_type": "execute_result",
          "data": {
            "text/plain": [
              "0.61"
            ]
          },
          "metadata": {
            "tags": []
          },
          "execution_count": 10
        }
      ]
    },
    {
      "cell_type": "code",
      "metadata": {
        "id": "jxAfpo9LZX4K",
        "colab_type": "code",
        "colab": {}
      },
      "source": [
        ""
      ],
      "execution_count": null,
      "outputs": []
    }
  ]
}