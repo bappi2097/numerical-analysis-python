{
  "nbformat": 4,
  "nbformat_minor": 0,
  "metadata": {
    "colab": {
      "name": "secant-method-1.ipynb",
      "provenance": [],
      "authorship_tag": "ABX9TyOqHPhWlbs5mO4dGnIsXyIX",
      "include_colab_link": true
    },
    "kernelspec": {
      "name": "python3",
      "display_name": "Python 3"
    }
  },
  "cells": [
    {
      "cell_type": "markdown",
      "metadata": {
        "id": "view-in-github",
        "colab_type": "text"
      },
      "source": [
        "<a href=\"https://colab.research.google.com/github/bappi2097/numerical-analysis-python/blob/master/secant_method_1.ipynb\" target=\"_parent\"><img src=\"https://colab.research.google.com/assets/colab-badge.svg\" alt=\"Open In Colab\"/></a>"
      ]
    },
    {
      "cell_type": "code",
      "metadata": {
        "id": "qpI_i4UCCHxK",
        "colab_type": "code",
        "colab": {}
      },
      "source": [
        "import sympy as sy\n",
        "def f(formula, **args):\n",
        "  expr = sy.sympify(formula)\n",
        "  return expr.evalf(subs=args)"
      ],
      "execution_count": 32,
      "outputs": []
    },
    {
      "cell_type": "code",
      "metadata": {
        "id": "j2e5Se_eFEmW",
        "colab_type": "code",
        "colab": {}
      },
      "source": [
        "def secant(formula):\n",
        "  x=[0,1]\n",
        "  i=1\n",
        "  while(True):\n",
        "    fx=[f(x=x[i-1], formula=formula),f(x=x[i], formula=formula)]\n",
        "    x.append(x[i]-((x[i]-x[i-1])/(fx[1]-fx[0]))*fx[1])\n",
        "    if (x.count(x[i+1])>1):\n",
        "        return x[i+1]\n",
        "    i+=1"
      ],
      "execution_count": 33,
      "outputs": []
    },
    {
      "cell_type": "code",
      "metadata": {
        "id": "WdsLnc4IF00Q",
        "colab_type": "code",
        "colab": {
          "base_uri": "https://localhost:8080/",
          "height": 52
        },
        "outputId": "4401fcb5-ee98-4b04-f6ff-78a13f233d9c"
      },
      "source": [
        "secant(input(\"Enter Equation: \"))"
      ],
      "execution_count": 35,
      "outputs": [
        {
          "output_type": "stream",
          "text": [
            "Enter Equation: 3*x-cos(x)-1\n"
          ],
          "name": "stdout"
        },
        {
          "output_type": "execute_result",
          "data": {
            "text/plain": [
              "0.607101648103123"
            ]
          },
          "metadata": {
            "tags": []
          },
          "execution_count": 35
        }
      ]
    },
    {
      "cell_type": "code",
      "metadata": {
        "id": "REv1GStjNt4g",
        "colab_type": "code",
        "colab": {}
      },
      "source": [
        ""
      ],
      "execution_count": null,
      "outputs": []
    }
  ]
}